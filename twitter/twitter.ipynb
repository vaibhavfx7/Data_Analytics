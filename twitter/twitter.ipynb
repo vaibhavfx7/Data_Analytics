{
 "cells": [
  {
   "cell_type": "code",
   "execution_count": 2,
   "metadata": {},
   "outputs": [],
   "source": [
    "/*\n",
    "\n",
    "*/\n",
    "import json\n",
    "import requests\n",
    "from twitter import *\n",
    "from twitter.oauth import OAuth, read_token_file, write_token_file\n"
   ]
  },
  {
   "cell_type": "code",
   "execution_count": 7,
   "metadata": {},
   "outputs": [],
   "source": [
    "import tweepy"
   ]
  },
  {
   "cell_type": "code",
   "execution_count": 1,
   "metadata": {},
   "outputs": [],
   "source": [
    "\n",
    "import matplotlib.pyplot as plt"
   ]
  },
  {
   "cell_type": "code",
   "execution_count": 5,
   "metadata": {},
   "outputs": [],
   "source": [
    "from tweepy import OAuthHandler\n",
    "from textblob import *"
   ]
  },
  {
   "cell_type": "code",
   "execution_count": 2,
   "metadata": {},
   "outputs": [],
   "source": [
    "access_token \t\t= \"1526926730-TUDn147weOZsynVtzn43CITXOBOIF4dfOisHwLB\"\n",
    "access_token_secret\t= \"0e8JNQLlITlDzXnceyOGJvNMIgUfuaNBlSnsmg6XSYdMR\"\n",
    "consumer_key \t\t= \"4jRfU5YV2Meuz2Kf0O591Ufkf\"\n",
    "consumer_secret \t= \"m0fQzybjHClhM38rdD1Co2dQjewB6Hwkkgl5frwzfOtmjZt4rM\""
   ]
  },
  {
   "cell_type": "code",
   "execution_count": 8,
   "metadata": {},
   "outputs": [],
   "source": [
    "class Twitte(object):\n",
    "    # assigning auth tokens and consumer key\n",
    "    access_token \t\t= \"1526926730-TUDn147weOZsynVtzn43CITXOBOIF4dfOisHwLB\"\n",
    "    access_token_secret\t= \"0e8JNQLlITlDzXnceyOGJvNMIgUfuaNBlSnsmg6XSYdMR\"\n",
    "    consumer_key \t\t= \"4jRfU5YV2Meuz2Kf0O591Ufkf\"\n",
    "    consumer_secret \t= \"m0fQzybjHClhM38rdD1Co2dQjewB6Hwkkgl5frwzfOtmjZt4rM\"\n",
    "    file=open(\"tweetsent.json\",\"w\")\n",
    "    \n",
    "    #function to return tweets on topic query\n",
    "    def deja(self,query,c):\n",
    "                    # create OAuthHandler object\n",
    "        self.auth = OAuthHandler(consumer_key, consumer_secret)\n",
    "                    # set access token and secret\n",
    "        self.auth.set_access_token(access_token, access_token_secret)\n",
    "                    # create tweepy API object to fetch tweets\n",
    "        api = tweepy.API(self.auth)\n",
    "        return api.search(q=query,count=c)#c by default is 15\n",
    "        "
   ]
  },
  {
   "cell_type": "code",
   "execution_count": 44,
   "metadata": {},
   "outputs": [],
   "source": [
    "from textblob import TextBlob as tbl"
   ]
  },
  {
   "cell_type": "code",
   "execution_count": 33,
   "metadata": {},
   "outputs": [],
   "source": [
    "pi=Twitte()\n",
    "Wweets = pi.deja(query = 'Kerala', c = 100)"
   ]
  },
  {
   "cell_type": "code",
   "execution_count": 34,
   "metadata": {},
   "outputs": [],
   "source": [
    "tweets=[]\n",
    "for tweet in Wweets:\n",
    "    tweets.append(tweet.text)"
   ]
  },
  {
   "cell_type": "code",
   "execution_count": 40,
   "metadata": {},
   "outputs": [],
   "source": [
    "for i in tweets:\n",
    "    if str(i).find(\":\")==True:\n",
    "        s=i.split(\":\")\n",
    "    if len(s)==1:\n",
    "        i=s[1]\n",
    "        i=re.sub(\"(@[0-9a-zA-Z])|(#[a-zA-Z])|(/\\#[a-z])|([@%^_/\\;'<>])\",\"\",str(i))"
   ]
  },
  {
   "cell_type": "code",
   "execution_count": 35,
   "metadata": {},
   "outputs": [],
   "source": [
    "tweets[1]=tweets[1].split(\":\")"
   ]
  },
  {
   "cell_type": "code",
   "execution_count": 45,
   "metadata": {},
   "outputs": [
    {
     "data": {
      "text/plain": [
       "100"
      ]
     },
     "execution_count": 45,
     "metadata": {},
     "output_type": "execute_result"
    }
   ],
   "source": [
    "len(tweets)"
   ]
  },
  {
   "cell_type": "code",
   "execution_count": 48,
   "metadata": {},
   "outputs": [],
   "source": [
    "c=0\n",
    "d=0\n",
    "e=0\n",
    "for i in tweets:\n",
    "    ir=tbl(str(i))\n",
    "    if ir.sentiment.polarity > 0:\n",
    "        c+=1\n",
    "    elif ir.sentiment.polarity == 0:\n",
    "        d+=1\n",
    "    elif ir.sentiment.polarity == 0:\n",
    "        e+=1    \n",
    "al=[c,d,e]        "
   ]
  },
  {
   "cell_type": "code",
   "execution_count": 49,
   "metadata": {},
   "outputs": [
    {
     "data": {
      "text/plain": [
       "[43, 40, 0]"
      ]
     },
     "execution_count": 49,
     "metadata": {},
     "output_type": "execute_result"
    }
   ],
   "source": [
    "al"
   ]
  },
  {
   "cell_type": "code",
   "execution_count": 50,
   "metadata": {},
   "outputs": [],
   "source": [
    "labels=[\"positive\",\"negative\"]\n",
    "bl=[30,42]\n",
    "bins=[10,15,25,40]"
   ]
  },
  {
   "cell_type": "code",
   "execution_count": 53,
   "metadata": {},
   "outputs": [
    {
     "data": {
      "text/plain": [
       "(array([1., 0., 0., 0., 0., 0., 0., 0., 0., 2.]),\n",
       " array([ 0. ,  4.3,  8.6, 12.9, 17.2, 21.5, 25.8, 30.1, 34.4, 38.7, 43. ]),\n",
       " <a list of 10 Patch objects>)"
      ]
     },
     "execution_count": 53,
     "metadata": {},
     "output_type": "execute_result"
    },
    {
     "data": {
      "image/png": "[encoded data removed]",
      "text/plain": [
       "<Figure size 432x288 with 1 Axes>"
      ]
     },
     "metadata": {},
     "output_type": "display_data"
    }
   ],
   "source": [
    "plt.hist(al,label=labels)"
   ]
  },
  {
   "cell_type": "code",
   "execution_count": null,
   "metadata": {},
   "outputs": [],
   "source": []
  },
  {
   "cell_type": "code",
   "execution_count": null,
   "metadata": {},
   "outputs": [],
   "source": []
  },
  {
   "cell_type": "code",
   "execution_count": 188,
   "metadata": {},
   "outputs": [
    {
     "data": {
      "text/plain": [
       "str"
      ]
     },
     "execution_count": 188,
     "metadata": {},
     "output_type": "execute_result"
    }
   ],
   "source": [
    "type(' '.join(re.sub(\"(@[A-Za-z0-9]+)|([^0-9A-Za-z \\t])|(\\w+:\\/\\/\\S+)\", \" \", tweets[10]).split()))"
   ]
  },
  {
   "cell_type": "code",
   "execution_count": 107,
   "metadata": {},
   "outputs": [
    {
     "data": {
      "text/plain": [
       "1"
      ]
     },
     "execution_count": 107,
     "metadata": {},
     "output_type": "execute_result"
    }
   ],
   "source": [
    "0|1"
   ]
  },
  {
   "cell_type": "code",
   "execution_count": 13,
   "metadata": {},
   "outputs": [
    {
     "ename": "TypeError",
     "evalue": "sub() missing 1 required positional argument: 'string'",
     "output_type": "error",
     "traceback": [
      "\u001b[1;31m---------------------------------------------------------------------------\u001b[0m",
      "\u001b[1;31mTypeError\u001b[0m                                 Traceback (most recent call last)",
      "\u001b[1;32m<ipython-input-13-141557d5d167>\u001b[0m in \u001b[0;36m<module>\u001b[1;34m()\u001b[0m\n\u001b[0;32m      2\u001b[0m \u001b[1;33m\u001b[0m\u001b[0m\n\u001b[0;32m      3\u001b[0m \u001b[0ma\u001b[0m \u001b[1;33m=\u001b[0m \u001b[1;34m'a..!b...c???d;;'\u001b[0m\u001b[1;33m\u001b[0m\u001b[0m\n\u001b[1;32m----> 4\u001b[1;33m \u001b[0mre\u001b[0m\u001b[1;33m.\u001b[0m\u001b[0msub\u001b[0m\u001b[1;33m(\u001b[0m\u001b[1;34m'[,!.;?]'\u001b[0m\u001b[1;33m,\u001b[0m \u001b[1;34m''\u001b[0m\u001b[1;33m)\u001b[0m\u001b[1;33m\u001b[0m\u001b[0m\n\u001b[0m",
      "\u001b[1;31mTypeError\u001b[0m: sub() missing 1 required positional argument: 'string'"
     ]
    }
   ],
   "source": [
    "import re\n",
    "\n",
    "a = 'a..!b...c???d;;'\n",
    "re.sub('[,!.;?]', '')"
   ]
  },
  {
   "cell_type": "code",
   "execution_count": null,
   "metadata": {},
   "outputs": [],
   "source": []
  }
 ],
 "metadata": {
  "kernelspec": {
   "display_name": "Python 3",
   "language": "python",
   "name": "python3"
  },
  "language_info": {
   "codemirror_mode": {
    "name": "ipython",
    "version": 3
   },
   "file_extension": ".py",
   "mimetype": "text/x-python",
   "name": "python",
   "nbconvert_exporter": "python",
   "pygments_lexer": "ipython3",
   "version": "3.6.3"
  }
 },
 "nbformat": 4,
 "nbformat_minor": 2
}
